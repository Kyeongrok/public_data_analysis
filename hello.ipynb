{
 "cells": [
  {
   "cell_type": "code",
   "execution_count": 1,
   "id": "46fafb0a",
   "metadata": {},
   "outputs": [],
   "source": [
    "import crawler\n"
   ]
  },
  {
   "cell_type": "code",
   "execution_count": 2,
   "id": "baa81ac1",
   "metadata": {},
   "outputs": [
    {
     "data": {
      "text/plain": [
       "'result...'"
      ]
     },
     "execution_count": 2,
     "metadata": {},
     "output_type": "execute_result"
    }
   ],
   "source": [
    "crawler.call_api()"
   ]
  }
 ],
 "metadata": {
  "kernelspec": {
   "display_name": "Python 3",
   "language": "python",
   "name": "python3"
  },
  "language_info": {
   "codemirror_mode": {
    "name": "ipython",
    "version": 3
   },
   "file_extension": ".py",
   "mimetype": "text/x-python",
   "name": "python",
   "nbconvert_exporter": "python",
   "pygments_lexer": "ipython3",
   "version": "3.9.4"
  }
 },
 "nbformat": 4,
 "nbformat_minor": 5
}
