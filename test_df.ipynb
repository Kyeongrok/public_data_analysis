{
 "cells": [
  {
   "cell_type": "code",
   "execution_count": 29,
   "id": "d9bdb707",
   "metadata": {},
   "outputs": [],
   "source": [
    "import pandas as pd\n",
    "pd.set_option('display.max_columns', 0)\n",
    "df = pd.read_json('./all_2020.json')"
   ]
  },
  {
   "cell_type": "code",
   "execution_count": 30,
   "id": "5e5e3092",
   "metadata": {},
   "outputs": [
    {
     "data": {
      "text/plain": "Index(['aucSeCode', 'aucSeNm', 'catgoryCode', 'catgoryNewCode', 'catgoryNewNm',\n       'catgoryNm', 'cprInsttCode', 'cprInsttNewCode', 'cprMtcCode',\n       'cprMtcNm', 'cprUsePrdlstCode', 'cprUsePrdlstNm', 'delngDe',\n       'delngPrut', 'delngQy', 'insttNewNm', 'insttNm', 'ledgNo', 'rnum',\n       'sbidPric', 'shipmntSeCode', 'shipmntSeNm', 'sleSeqn',\n       'stdFrmlcNewCode', 'stdFrmlcNewNm', 'stdMgNewCode', 'stdMgNewNm',\n       'stdMtcNewCode', 'stdMtcNewNm', 'stdPrdlstCode', 'stdPrdlstNewCode',\n       'stdPrdlstNewNm', 'stdPrdlstNm', 'stdQlityNewCode', 'stdQlityNewNm',\n       'stdSpciesCode', 'stdSpciesNewCode', 'stdSpciesNewNm', 'stdSpciesNm',\n       'stdUnitNewCode', 'stdUnitNewNm', 'whsalMrktCode', 'whsalMrktNewCode',\n       'whsalMrktNewNm', 'whsalMrktNm', 'sbidTime'],\n      dtype='object')"
     },
     "execution_count": 30,
     "metadata": {},
     "output_type": "execute_result"
    }
   ],
   "source": [
    "df.columns"
   ]
  },
  {
   "cell_type": "code",
   "execution_count": 31,
   "id": "2555af6d",
   "metadata": {},
   "outputs": [],
   "source": [
    "df = df.rename({\n",
    "    'delngDe':'경락일자',\n",
    "'sbidTime':'경매시간',\n",
    "'aucSeCode':'경매구분코드',\n",
    "'aucSeNm':'경매구분코드명',\n",
    "'whsalMrktNewCode':'시장코드',\n",
    "'whsalMrktNewNm':'시장명',\n",
    "'whsalMrktCode':'구시장코드',\n",
    "'whsalMrktNm':'구시장명',\n",
    "'cprInsttNewCode':'도매시장법인코드',\n",
    "'insttNewNm':'법인명',\n",
    "'cprInsttCode':'구법인코드',\n",
    "'insttNm':'구법인명',\n",
    "'ledgNo':'경매원표번호',\n",
    "'sleSeqn':'일련번호',\n",
    "'catgoryNewCode':'부류코드',\n",
    "'catgoryNewNm':'부류명',\n",
    "'catgoryCode':'구부류코드',\n",
    "'catgoryNm':'구부류명',\n",
    "'stdPrdlstNewCode':'품목코드',\n",
    "'stdPrdlstNewNm':'품목명',\n",
    "'stdPrdlstCode':'구품목코드',\n",
    "'stdPrdlstNm':'구품목명',\n",
    "'stdSpciesNewCode':'품종코드',\n",
    "'stdSpciesNewNm':'품종명',\n",
    "'stdSpciesCode':'구품종코드',\n",
    "'stdSpciesNm':'구품종명',\n",
    "'delngPrut':'거래단량',\n",
    "'stdUnitNewCode':'단위코드',\n",
    "'stdUnitNewNm':'단위명',\n",
    "'stdFrmlcNewCode':'포장상태코드',\n",
    "'stdFrmlcNewNm':'포장상태명',\n",
    "'stdMgNewCode':'크기코드',\n",
    "'stdMgNewNm':'크기명',\n",
    "'stdQlityNewCode':'등급코드',\n",
    "'stdQlityNewNm':'등급명',\n",
    "'cprUsePrdlstCode':'법인사용품목코드',\n",
    "'cprUsePrdlstNm':'법인사용품목명',\n",
    "'sbidPric':'거래가격',\n",
    "'shipmntSeCode':'출하구분코드',\n",
    "'shipmntSeNm':'출하구분명',\n",
    "'stdMtcNewCode':'산지코드',\n",
    "'stdMtcNewNm':'산지명',\n",
    "'cprMtcCode':'구산지코드',\n",
    "'cprMtcNm':'구산지명',\n",
    "'delngQy':'거래량'\n",
    "    \n",
    "}, axis='columns')"
   ]
  },
  {
   "cell_type": "code",
   "execution_count": 32,
   "id": "f320a68b",
   "metadata": {},
   "outputs": [
    {
     "data": {
      "text/plain": "Index(['경매구분코드', '경매구분코드명', '구부류코드', '부류코드', '부류명', '구부류명', '구법인코드',\n       '도매시장법인코드', '구산지코드', '구산지명', '법인사용품목코드', '법인사용품목명', '경락일자', '거래단량',\n       '거래량', '법인명', '구법인명', '경매원표번호', 'rnum', '거래가격', '출하구분코드', '출하구분명',\n       '일련번호', '포장상태코드', '포장상태명', '크기코드', '크기명', '산지코드', '산지명', '구품목코드',\n       '품목코드', '품목명', '구품목명', '등급코드', '등급명', '구품종코드', '품종코드', '품종명', '구품종명',\n       '단위코드', '단위명', '구시장코드', '시장코드', '시장명', '구시장명', '경매시간'],\n      dtype='object')"
     },
     "execution_count": 32,
     "metadata": {},
     "output_type": "execute_result"
    }
   ],
   "source": [
    "df.columns"
   ]
  },
  {
   "cell_type": "code",
   "execution_count": null,
   "id": "65aa336e",
   "metadata": {},
   "outputs": [],
   "source": []
  },
  {
   "cell_type": "code",
   "execution_count": null,
   "id": "787598ab",
   "metadata": {
    "pycharm": {
     "name": "#%%\n"
    }
   },
   "outputs": [],
   "source": [
    "\n",
    "# df.head()\n",
    "# # df['경락일자']\n",
    "# df = df[['경락일자', '거래량', '거래가격', '시장명']]\n",
    "# df\n",
    "#"
   ]
  },
  {
   "cell_type": "code",
   "execution_count": 35,
   "outputs": [
    {
     "ename": "TypeError",
     "evalue": "Only valid with DatetimeIndex, TimedeltaIndex or PeriodIndex, but got an instance of 'Int64Index'",
     "output_type": "error",
     "traceback": [
      "\u001B[1;31m---------------------------------------------------------------------------\u001B[0m",
      "\u001B[1;31mTypeError\u001B[0m                                 Traceback (most recent call last)",
      "\u001B[1;32m<ipython-input-35-f1e194c597a7>\u001B[0m in \u001B[0;36m<module>\u001B[1;34m\u001B[0m\n\u001B[0;32m      1\u001B[0m \u001B[0mgr\u001B[0m \u001B[1;33m=\u001B[0m \u001B[0mdf\u001B[0m\u001B[1;33m.\u001B[0m\u001B[0mgroupby\u001B[0m\u001B[1;33m(\u001B[0m\u001B[1;34m'경락일자'\u001B[0m\u001B[1;33m)\u001B[0m\u001B[1;33m\u001B[0m\u001B[1;33m\u001B[0m\u001B[0m\n\u001B[1;32m----> 2\u001B[1;33m \u001B[0mgr\u001B[0m \u001B[1;33m=\u001B[0m \u001B[0mdf\u001B[0m\u001B[1;33m.\u001B[0m\u001B[0mset_index\u001B[0m\u001B[1;33m(\u001B[0m\u001B[1;34m'경락일자'\u001B[0m\u001B[1;33m)\u001B[0m\u001B[1;33m.\u001B[0m\u001B[0mgroupby\u001B[0m\u001B[1;33m(\u001B[0m\u001B[0mpd\u001B[0m\u001B[1;33m.\u001B[0m\u001B[0mGrouper\u001B[0m\u001B[1;33m(\u001B[0m\u001B[0mfreq\u001B[0m\u001B[1;33m=\u001B[0m\u001B[1;34m'd'\u001B[0m\u001B[1;33m)\u001B[0m\u001B[1;33m)\u001B[0m\u001B[1;33m\u001B[0m\u001B[1;33m\u001B[0m\u001B[0m\n\u001B[0m\u001B[0;32m      3\u001B[0m \u001B[1;31m# # gr.sum()\u001B[0m\u001B[1;33m\u001B[0m\u001B[1;33m\u001B[0m\u001B[1;33m\u001B[0m\u001B[0m\n\u001B[0;32m      4\u001B[0m \u001B[1;31m# gr.agg(['max', 'min','sum','mean','std'])\u001B[0m\u001B[1;33m\u001B[0m\u001B[1;33m\u001B[0m\u001B[1;33m\u001B[0m\u001B[0m\n\u001B[0;32m      5\u001B[0m \u001B[1;33m\u001B[0m\u001B[0m\n",
      "\u001B[1;32mc:\\git\\python\\public_data_analysis\\venv\\lib\\site-packages\\pandas\\core\\frame.py\u001B[0m in \u001B[0;36mgroupby\u001B[1;34m(self, by, axis, level, as_index, sort, group_keys, squeeze, observed, dropna)\u001B[0m\n\u001B[0;32m   6715\u001B[0m         \u001B[0maxis\u001B[0m \u001B[1;33m=\u001B[0m \u001B[0mself\u001B[0m\u001B[1;33m.\u001B[0m\u001B[0m_get_axis_number\u001B[0m\u001B[1;33m(\u001B[0m\u001B[0maxis\u001B[0m\u001B[1;33m)\u001B[0m\u001B[1;33m\u001B[0m\u001B[1;33m\u001B[0m\u001B[0m\n\u001B[0;32m   6716\u001B[0m \u001B[1;33m\u001B[0m\u001B[0m\n\u001B[1;32m-> 6717\u001B[1;33m         return DataFrameGroupBy(\n\u001B[0m\u001B[0;32m   6718\u001B[0m             \u001B[0mobj\u001B[0m\u001B[1;33m=\u001B[0m\u001B[0mself\u001B[0m\u001B[1;33m,\u001B[0m\u001B[1;33m\u001B[0m\u001B[1;33m\u001B[0m\u001B[0m\n\u001B[0;32m   6719\u001B[0m             \u001B[0mkeys\u001B[0m\u001B[1;33m=\u001B[0m\u001B[0mby\u001B[0m\u001B[1;33m,\u001B[0m\u001B[1;33m\u001B[0m\u001B[1;33m\u001B[0m\u001B[0m\n",
      "\u001B[1;32mc:\\git\\python\\public_data_analysis\\venv\\lib\\site-packages\\pandas\\core\\groupby\\groupby.py\u001B[0m in \u001B[0;36m__init__\u001B[1;34m(self, obj, keys, axis, level, grouper, exclusions, selection, as_index, sort, group_keys, squeeze, observed, mutated, dropna)\u001B[0m\n\u001B[0;32m    558\u001B[0m             \u001B[1;32mfrom\u001B[0m \u001B[0mpandas\u001B[0m\u001B[1;33m.\u001B[0m\u001B[0mcore\u001B[0m\u001B[1;33m.\u001B[0m\u001B[0mgroupby\u001B[0m\u001B[1;33m.\u001B[0m\u001B[0mgrouper\u001B[0m \u001B[1;32mimport\u001B[0m \u001B[0mget_grouper\u001B[0m\u001B[1;33m\u001B[0m\u001B[1;33m\u001B[0m\u001B[0m\n\u001B[0;32m    559\u001B[0m \u001B[1;33m\u001B[0m\u001B[0m\n\u001B[1;32m--> 560\u001B[1;33m             grouper, exclusions, obj = get_grouper(\n\u001B[0m\u001B[0;32m    561\u001B[0m                 \u001B[0mobj\u001B[0m\u001B[1;33m,\u001B[0m\u001B[1;33m\u001B[0m\u001B[1;33m\u001B[0m\u001B[0m\n\u001B[0;32m    562\u001B[0m                 \u001B[0mkeys\u001B[0m\u001B[1;33m,\u001B[0m\u001B[1;33m\u001B[0m\u001B[1;33m\u001B[0m\u001B[0m\n",
      "\u001B[1;32mc:\\git\\python\\public_data_analysis\\venv\\lib\\site-packages\\pandas\\core\\groupby\\grouper.py\u001B[0m in \u001B[0;36mget_grouper\u001B[1;34m(obj, key, axis, level, sort, observed, mutated, validate, dropna)\u001B[0m\n\u001B[0;32m    717\u001B[0m     \u001B[1;31m# a passed-in Grouper, directly convert\u001B[0m\u001B[1;33m\u001B[0m\u001B[1;33m\u001B[0m\u001B[1;33m\u001B[0m\u001B[0m\n\u001B[0;32m    718\u001B[0m     \u001B[1;32mif\u001B[0m \u001B[0misinstance\u001B[0m\u001B[1;33m(\u001B[0m\u001B[0mkey\u001B[0m\u001B[1;33m,\u001B[0m \u001B[0mGrouper\u001B[0m\u001B[1;33m)\u001B[0m\u001B[1;33m:\u001B[0m\u001B[1;33m\u001B[0m\u001B[1;33m\u001B[0m\u001B[0m\n\u001B[1;32m--> 719\u001B[1;33m         \u001B[0mbinner\u001B[0m\u001B[1;33m,\u001B[0m \u001B[0mgrouper\u001B[0m\u001B[1;33m,\u001B[0m \u001B[0mobj\u001B[0m \u001B[1;33m=\u001B[0m \u001B[0mkey\u001B[0m\u001B[1;33m.\u001B[0m\u001B[0m_get_grouper\u001B[0m\u001B[1;33m(\u001B[0m\u001B[0mobj\u001B[0m\u001B[1;33m,\u001B[0m \u001B[0mvalidate\u001B[0m\u001B[1;33m=\u001B[0m\u001B[1;32mFalse\u001B[0m\u001B[1;33m)\u001B[0m\u001B[1;33m\u001B[0m\u001B[1;33m\u001B[0m\u001B[0m\n\u001B[0m\u001B[0;32m    720\u001B[0m         \u001B[1;32mif\u001B[0m \u001B[0mkey\u001B[0m\u001B[1;33m.\u001B[0m\u001B[0mkey\u001B[0m \u001B[1;32mis\u001B[0m \u001B[1;32mNone\u001B[0m\u001B[1;33m:\u001B[0m\u001B[1;33m\u001B[0m\u001B[1;33m\u001B[0m\u001B[0m\n\u001B[0;32m    721\u001B[0m             \u001B[1;32mreturn\u001B[0m \u001B[0mgrouper\u001B[0m\u001B[1;33m,\u001B[0m \u001B[0mset\u001B[0m\u001B[1;33m(\u001B[0m\u001B[1;33m)\u001B[0m\u001B[1;33m,\u001B[0m \u001B[0mobj\u001B[0m\u001B[1;33m\u001B[0m\u001B[1;33m\u001B[0m\u001B[0m\n",
      "\u001B[1;32mc:\\git\\python\\public_data_analysis\\venv\\lib\\site-packages\\pandas\\core\\resample.py\u001B[0m in \u001B[0;36m_get_grouper\u001B[1;34m(self, obj, validate)\u001B[0m\n\u001B[0;32m   1482\u001B[0m     \u001B[1;32mdef\u001B[0m \u001B[0m_get_grouper\u001B[0m\u001B[1;33m(\u001B[0m\u001B[0mself\u001B[0m\u001B[1;33m,\u001B[0m \u001B[0mobj\u001B[0m\u001B[1;33m,\u001B[0m \u001B[0mvalidate\u001B[0m\u001B[1;33m:\u001B[0m \u001B[0mbool\u001B[0m \u001B[1;33m=\u001B[0m \u001B[1;32mTrue\u001B[0m\u001B[1;33m)\u001B[0m\u001B[1;33m:\u001B[0m\u001B[1;33m\u001B[0m\u001B[1;33m\u001B[0m\u001B[0m\n\u001B[0;32m   1483\u001B[0m         \u001B[1;31m# create the resampler and return our binner\u001B[0m\u001B[1;33m\u001B[0m\u001B[1;33m\u001B[0m\u001B[1;33m\u001B[0m\u001B[0m\n\u001B[1;32m-> 1484\u001B[1;33m         \u001B[0mr\u001B[0m \u001B[1;33m=\u001B[0m \u001B[0mself\u001B[0m\u001B[1;33m.\u001B[0m\u001B[0m_get_resampler\u001B[0m\u001B[1;33m(\u001B[0m\u001B[0mobj\u001B[0m\u001B[1;33m)\u001B[0m\u001B[1;33m\u001B[0m\u001B[1;33m\u001B[0m\u001B[0m\n\u001B[0m\u001B[0;32m   1485\u001B[0m         \u001B[0mr\u001B[0m\u001B[1;33m.\u001B[0m\u001B[0m_set_binner\u001B[0m\u001B[1;33m(\u001B[0m\u001B[1;33m)\u001B[0m\u001B[1;33m\u001B[0m\u001B[1;33m\u001B[0m\u001B[0m\n\u001B[0;32m   1486\u001B[0m         \u001B[1;32mreturn\u001B[0m \u001B[0mr\u001B[0m\u001B[1;33m.\u001B[0m\u001B[0mbinner\u001B[0m\u001B[1;33m,\u001B[0m \u001B[0mr\u001B[0m\u001B[1;33m.\u001B[0m\u001B[0mgrouper\u001B[0m\u001B[1;33m,\u001B[0m \u001B[0mr\u001B[0m\u001B[1;33m.\u001B[0m\u001B[0mobj\u001B[0m\u001B[1;33m\u001B[0m\u001B[1;33m\u001B[0m\u001B[0m\n",
      "\u001B[1;32mc:\\git\\python\\public_data_analysis\\venv\\lib\\site-packages\\pandas\\core\\resample.py\u001B[0m in \u001B[0;36m_get_resampler\u001B[1;34m(self, obj, kind)\u001B[0m\n\u001B[0;32m   1474\u001B[0m             \u001B[1;32mreturn\u001B[0m \u001B[0mTimedeltaIndexResampler\u001B[0m\u001B[1;33m(\u001B[0m\u001B[0mobj\u001B[0m\u001B[1;33m,\u001B[0m \u001B[0mgroupby\u001B[0m\u001B[1;33m=\u001B[0m\u001B[0mself\u001B[0m\u001B[1;33m,\u001B[0m \u001B[0maxis\u001B[0m\u001B[1;33m=\u001B[0m\u001B[0mself\u001B[0m\u001B[1;33m.\u001B[0m\u001B[0maxis\u001B[0m\u001B[1;33m)\u001B[0m\u001B[1;33m\u001B[0m\u001B[1;33m\u001B[0m\u001B[0m\n\u001B[0;32m   1475\u001B[0m \u001B[1;33m\u001B[0m\u001B[0m\n\u001B[1;32m-> 1476\u001B[1;33m         raise TypeError(\n\u001B[0m\u001B[0;32m   1477\u001B[0m             \u001B[1;34m\"Only valid with DatetimeIndex, \"\u001B[0m\u001B[1;33m\u001B[0m\u001B[1;33m\u001B[0m\u001B[0m\n\u001B[0;32m   1478\u001B[0m             \u001B[1;34m\"TimedeltaIndex or PeriodIndex, \"\u001B[0m\u001B[1;33m\u001B[0m\u001B[1;33m\u001B[0m\u001B[0m\n",
      "\u001B[1;31mTypeError\u001B[0m: Only valid with DatetimeIndex, TimedeltaIndex or PeriodIndex, but got an instance of 'Int64Index'"
     ]
    }
   ],
   "source": [
    "# # gr = df.groupby('경락일자')\n",
    "# # gr.sum()\n",
    "# gr = df.set_index('경락일자').groupby(pd.Grouper(freq='d'))\n",
    "# # gr.sum()\n",
    "# gr.agg(['max', 'min','sum','mean','std'])"
   ],
   "metadata": {
    "collapsed": false,
    "pycharm": {
     "name": "#%%\n"
    }
   }
  },
  {
   "cell_type": "code",
   "execution_count": null,
   "outputs": [],
   "source": [
    "# df = df.set_index('경락일자')\n",
    "# df = df[['경락일자', '시장명', '산지명', '거래량', '거래가격']]\n",
    "df['경락일자'] = pd.to_datetime(df['경락일자'], format='%Y%m%d')\n",
    "# df.head()\n",
    "gr = df.groupby('산지명')\n",
    "gr.agg(['sum', 'mean', 'max', 'min', 'std'])"
   ],
   "metadata": {
    "collapsed": false,
    "pycharm": {
     "name": "#%%\n"
    }
   }
  }
 ],
 "metadata": {
  "kernelspec": {
   "display_name": "Python 3",
   "language": "python",
   "name": "python3"
  },
  "language_info": {
   "codemirror_mode": {
    "name": "ipython",
    "version": 3
   },
   "file_extension": ".py",
   "mimetype": "text/x-python",
   "name": "python",
   "nbconvert_exporter": "python",
   "pygments_lexer": "ipython3",
   "version": "3.8.10"
  }
 },
 "nbformat": 4,
 "nbformat_minor": 5
}